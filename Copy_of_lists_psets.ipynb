{
  "nbformat": 4,
  "nbformat_minor": 0,
  "metadata": {
    "colab": {
      "name": "Copy of lists_psets.ipynb",
      "provenance": [],
      "collapsed_sections": [],
      "include_colab_link": true
    },
    "kernelspec": {
      "name": "python3",
      "display_name": "Python 3"
    }
  },
  "cells": [
    {
      "cell_type": "markdown",
      "metadata": {
        "id": "view-in-github",
        "colab_type": "text"
      },
      "source": [
        "<a href=\"https://colab.research.google.com/github/twongz/PYTH225_HW/blob/master/Copy_of_lists_psets.ipynb\" target=\"_parent\"><img src=\"https://colab.research.google.com/assets/colab-badge.svg\" alt=\"Open In Colab\"/></a>"
      ]
    },
    {
      "cell_type": "markdown",
      "metadata": {
        "id": "Yr_KNJCvVI_l",
        "colab_type": "text"
      },
      "source": [
        "#  LISTS"
      ]
    },
    {
      "cell_type": "markdown",
      "metadata": {
        "id": "wnygsOhDVRof",
        "colab_type": "text"
      },
      "source": [
        "## LIST OPS"
      ]
    },
    {
      "cell_type": "markdown",
      "metadata": {
        "id": "3YuVvl6vVSvP",
        "colab_type": "text"
      },
      "source": [
        "### P1.PY"
      ]
    },
    {
      "cell_type": "code",
      "metadata": {
        "id": "Ir33rYgDVI_m",
        "colab_type": "code",
        "colab": {
          "base_uri": "https://localhost:8080/",
          "height": 119
        },
        "outputId": "eb5e9fc1-4810-4d44-dbe1-44ae960c42c5"
      },
      "source": [
        "\"\"\"\n",
        "Basic List Operations I\n",
        "\"\"\"\n",
        "\n",
        "# Create a list including these five animals - elephant, tiger, otter, orangutan, and penguin.\n",
        "x= ['elephant', 'tiger', 'otter', 'orangutan', 'penguin']\n",
        "print(x)\n",
        "\n",
        "# Print the 4th animal on the list.\n",
        "print(x[3])\n",
        "\n",
        "# Add 'tortoise' to the beginning of the list.\n",
        "\n",
        "x.insert(0,'tortoise')\n",
        "print(x)\n",
        "\n",
        "\n",
        "# Print the length of the list.\n",
        "print(len(x))\n",
        "\n",
        "# Remove 'orangutan' from the list.\n",
        "bye_animals= x.pop(4)\n",
        "print(x)\n",
        "\n",
        "# Sort the list alphabetically and print it out.\n",
        "x.sort()\n",
        "print(x)"
      ],
      "execution_count": 26,
      "outputs": [
        {
          "output_type": "stream",
          "text": [
            "['elephant', 'tiger', 'otter', 'orangutan', 'penguin']\n",
            "orangutan\n",
            "['tortoise', 'elephant', 'tiger', 'otter', 'orangutan', 'penguin']\n",
            "6\n",
            "['tortoise', 'elephant', 'tiger', 'otter', 'penguin']\n",
            "['elephant', 'otter', 'penguin', 'tiger', 'tortoise']\n"
          ],
          "name": "stdout"
        }
      ]
    },
    {
      "cell_type": "markdown",
      "metadata": {
        "id": "iopPhVNUVI_p",
        "colab_type": "text"
      },
      "source": [
        "\n",
        "\n",
        "### P2.PY\n",
        "\n",
        "\n"
      ]
    },
    {
      "cell_type": "code",
      "metadata": {
        "id": "4kMd_uBjVI_q",
        "colab_type": "code",
        "colab": {
          "base_uri": "https://localhost:8080/",
          "height": 85
        },
        "outputId": "ce0db712-9445-483c-ea1f-eb26a46629b1"
      },
      "source": [
        "\"\"\"\n",
        "Basic List Operations II\n",
        "\"\"\"\n",
        "\n",
        "# Declare a list with 5 names, and print out the length of that list.\n",
        "names = ['Tim', 'Tom', 'Steve', 'Rebecca', 'Ken']\n",
        "\n",
        "# Print the 3rd name on the list\n",
        "\n",
        "print(names[2])\n",
        "\n",
        "# Delete the first name on the list\n",
        "bye_Tim = names.pop(0)\n",
        "print(names)\n",
        "\n",
        "\n",
        "# Re-add the name you deleted to the end of the list\n",
        "\n",
        "names.extend([\"Tim\"])\n",
        "print(names)\n",
        "\n",
        "# Replace the 2nd name on the list with a new name.\n",
        "\n",
        "names[1] = \"Ed\"\n",
        "\n",
        "# Add 3 new names to the end of the list.\n",
        "\n",
        "new_names = [\"Bob\",\"Dom\",\"Joe\"]\n",
        "names.extend(new_names)\n",
        "print(names)"
      ],
      "execution_count": 25,
      "outputs": [
        {
          "output_type": "stream",
          "text": [
            "Steve\n",
            "['Tom', 'Steve', 'Rebecca', 'Ken']\n",
            "['Tom', 'Steve', 'Rebecca', 'Ken', 'Tim']\n",
            "['Tom', 'Ed', 'Rebecca', 'Ken', 'Tim', 'Bob', 'Dom', 'Joe']\n"
          ],
          "name": "stdout"
        }
      ]
    },
    {
      "cell_type": "markdown",
      "metadata": {
        "id": "lydOzGvFVI_6",
        "colab_type": "text"
      },
      "source": [
        "\n",
        "\n",
        "### P3.PY\n",
        "\n",
        "\n"
      ]
    },
    {
      "cell_type": "code",
      "metadata": {
        "id": "86gQFKLNVI_7",
        "colab_type": "code",
        "colab": {
          "base_uri": "https://localhost:8080/",
          "height": 119
        },
        "outputId": "dd8a72ff-4f30-46e9-fc86-91a9e93de629"
      },
      "source": [
        "\"\"\"\n",
        "Math Operations\n",
        "\"\"\"\n",
        "\n",
        "# Save a list with the numbers `2`, `4`, `6`, and `8` into a variable called `numbers`. Use this variable for all the problems in this PSET.\n",
        "\n",
        "numbers = [2, 4, 6, 8]\n",
        "\n",
        "# Print the max of `numbers`.\n",
        "print(max(numbers))\n",
        "\n",
        "# Pop the last element in `numbers` off; re-insert it at index `2` and print the resultant list.\n",
        "\n",
        "last = numbers.pop(3)\n",
        "print(numbers)\n",
        "numbers.insert(2, last)\n",
        "print(numbers)\n",
        "\n",
        "# Pop the second number in `numbers` off.\n",
        "\n",
        "numbers.pop(1)\n",
        "print(numbers)\n",
        "\n",
        "# Append `3` to `numbers`.\n",
        "\n",
        "numbers.append(3)\n",
        "print(numbers)\n",
        "# Print out the average number.\n",
        "\n",
        "numsum = (sum(numbers))\n",
        "numavg= (numsum/len(numbers))\n",
        "print(numavg)\n"
      ],
      "execution_count": 17,
      "outputs": [
        {
          "output_type": "stream",
          "text": [
            "8\n",
            "[2, 4, 6]\n",
            "[2, 4, 8, 6]\n",
            "[2, 8, 6]\n",
            "[2, 8, 6, 3]\n",
            "4.75\n"
          ],
          "name": "stdout"
        }
      ]
    },
    {
      "cell_type": "markdown",
      "metadata": {
        "id": "m40a2IGVVI_-",
        "colab_type": "text"
      },
      "source": [
        "\n",
        "\n",
        "## SORTING\n",
        "\n",
        "\n"
      ]
    },
    {
      "cell_type": "markdown",
      "metadata": {
        "id": "2XYhGsPjVUx8",
        "colab_type": "text"
      },
      "source": [
        "### P1.PY"
      ]
    },
    {
      "cell_type": "code",
      "metadata": {
        "id": "NRi8DF1eVI_-",
        "colab_type": "code",
        "colab": {
          "base_uri": "https://localhost:8080/",
          "height": 71
        },
        "outputId": "c01f94a1-5a63-4847-bb9d-4ea7225e3871"
      },
      "source": [
        "\"\"\"\n",
        "Spotify Playlists - Sorting\n",
        "\"\"\"\n",
        "\n",
        "# You work for Spotify and are creating a feature for users to alphabetize their playlists by song title. Below is a list of titles from a sample playlist.\n",
        "\n",
        "playlist_titles = ['Tiny Dancer', 'At Last', 'Fortunate Son', \n",
        "'Hey Jude', 'Isn\\'t She Lovely', 'Just the Way You Are', 'I\\'m Yours',\n",
        "'Vienna', 'Roxanne', 'Dancing in the Moonlight']\n",
        "\n",
        "# Alphabetize these songs and print the result.\n",
        "playlist_titles.sort()\n",
        "print(playlist_titles)\n",
        "\n",
        "# Now do the reverse.\n",
        "playlist_titles.sort(reverse= True)\n",
        "print(playlist_titles)\n"
      ],
      "execution_count": 23,
      "outputs": [
        {
          "output_type": "stream",
          "text": [
            "['At Last', 'Dancing in the Moonlight', 'Fortunate Son', 'Hey Jude', \"I'm Yours\", \"Isn't She Lovely\", 'Just the Way You Are', 'Roxanne', 'Tiny Dancer', 'Vienna']\n",
            "['Vienna', 'Tiny Dancer', 'Roxanne', 'Just the Way You Are', \"Isn't She Lovely\", \"I'm Yours\", 'Hey Jude', 'Fortunate Son', 'Dancing in the Moonlight', 'At Last']\n"
          ],
          "name": "stdout"
        }
      ]
    },
    {
      "cell_type": "markdown",
      "metadata": {
        "id": "0xVs38QYVJAA",
        "colab_type": "text"
      },
      "source": [
        "\n",
        "\n",
        "### P2.PY\n",
        "\n",
        "\n"
      ]
    },
    {
      "cell_type": "code",
      "metadata": {
        "id": "VXtT3BB0VJAB",
        "colab_type": "code",
        "colab": {
          "base_uri": "https://localhost:8080/",
          "height": 34
        },
        "outputId": "444917ee-6481-473d-c80b-9dbb1800c355"
      },
      "source": [
        "\"\"\"\n",
        "Ordering Random Numbers\n",
        "\"\"\"\n",
        "import random\n",
        "# Create a list of 6 randomly generated numbers called numbers and sort it in descending order.\n",
        "\n",
        "tim_list = []\n",
        "\n",
        "for i in range(6):\n",
        "  random_number = random.randint(0, 9)\n",
        "  tim_list.append(random_number)\n",
        "\n",
        "tim_list.sort(reverse = True)\n",
        "print(tim_list)\n",
        "\n"
      ],
      "execution_count": 58,
      "outputs": [
        {
          "output_type": "stream",
          "text": [
            "[9, 8, 7, 6, 2, 1]\n"
          ],
          "name": "stdout"
        }
      ]
    },
    {
      "cell_type": "markdown",
      "metadata": {
        "id": "cN7amwMkVJAR",
        "colab_type": "text"
      },
      "source": [
        "## LIST MANIPULATION\n"
      ]
    },
    {
      "cell_type": "markdown",
      "metadata": {
        "id": "ImDqbHx5VY4P",
        "colab_type": "text"
      },
      "source": [
        "### P1.PY"
      ]
    },
    {
      "cell_type": "code",
      "metadata": {
        "id": "z8OOTUg6VJAT",
        "colab_type": "code",
        "colab": {
          "base_uri": "https://localhost:8080/",
          "height": 34
        },
        "outputId": "550ea4a0-05c6-4e60-8026-e858c6a766df"
      },
      "source": [
        "\"\"\"\n",
        "Phone Numbers\n",
        "\"\"\"\n",
        "\n",
        "# Parse this phone number so that a computer can process\n",
        "# it. (Hint: It can't include any non-numeric\n",
        "# characters.)\n",
        "\n",
        "cell = '1.192.168.0143'\n",
        "\n",
        "\n",
        "\n",
        "\n"
      ],
      "execution_count": 47,
      "outputs": [
        {
          "output_type": "stream",
          "text": [
            "[3]\n"
          ],
          "name": "stdout"
        }
      ]
    },
    {
      "cell_type": "markdown",
      "metadata": {
        "id": "HpUeu1YiVJAX",
        "colab_type": "text"
      },
      "source": [
        "\n",
        "\n",
        "### P2.PY\n",
        "\n",
        "\n"
      ]
    },
    {
      "cell_type": "code",
      "metadata": {
        "id": "O1ZpW64qVJAa",
        "colab_type": "code",
        "colab": {
          "base_uri": "https://localhost:8080/",
          "height": 102
        },
        "outputId": "48cb982c-f6b5-4418-9145-7d2bca435020"
      },
      "source": [
        "\"\"\"\n",
        "Basic Math Ops\n",
        "\"\"\"\n",
        "nums = [2, 19, 20, 12, 6, 24, 8, 30, 28, 25]\n",
        "# Given the list below, assign the correct values to the variables below\n",
        "my_sum = (sum(nums))\n",
        "print(my_sum)\n",
        "\t# my_min = \n",
        "my_min = (min(nums))\n",
        "print(my_min)\n",
        "\t# my_max = \n",
        "my_max = (max(nums))\n",
        "print(my_max)\n",
        "\t# my_range = \n",
        "print(nums[1:5])\n",
        "\t# my_mean =\n",
        "my_mean = (my_sum/len(nums))\n",
        "print(my_mean)\n",
        "\n",
        "\n",
        "\n",
        "\n",
        "# Once you finish, print out each value **on its own line** in this format: \"my_median = \" etc.\n",
        "\n"
      ],
      "execution_count": 66,
      "outputs": [
        {
          "output_type": "stream",
          "text": [
            "174\n",
            "2\n",
            "30\n",
            "[19, 20, 12, 6]\n",
            "17.4\n"
          ],
          "name": "stdout"
        }
      ]
    },
    {
      "cell_type": "markdown",
      "metadata": {
        "id": "X3BMzIHyVJAd",
        "colab_type": "text"
      },
      "source": [
        "\n",
        "\n",
        "### P3.PY\n",
        "\n",
        "\n"
      ]
    },
    {
      "cell_type": "code",
      "metadata": {
        "id": "jz3ccPm3VJAe",
        "colab_type": "code",
        "colab": {}
      },
      "source": [
        "\"\"\"\n",
        "Merge Lists with Duplicates\n",
        "\"\"\"\n",
        "\n",
        "# Use the two lists below to solve this problem. Print out the result from each section as you go along.\n",
        "\n",
        "list1, list2 = [2, 8, 6], [10, 4, 12]\n",
        "\n",
        "\n",
        "# A) Add another instance of each item in list1 to list1 again and assign the results to list3.\n",
        "list3 = None\n",
        "\n",
        "\n",
        "# B) Combine the two given lists and assign them to list4.\n",
        "list4 = None\n",
        "\n",
        "\n",
        "# C) Replace the first 3 items in list 3 with the numbers 13, 16, 9.\n",
        "list3[:2] = None\n",
        "\n",
        "# D) Merge list3 and list4 to create a list containing no duplicates and store this in list5.\n",
        "list5 = None\n",
        "\n",
        "\n",
        "# Take a look at your printed statements to see the evolution of your lists with each step of this problem.\n"
      ],
      "execution_count": 0,
      "outputs": []
    },
    {
      "cell_type": "markdown",
      "metadata": {
        "id": "Qqtm5kHYVJAg",
        "colab_type": "text"
      },
      "source": [
        "\n",
        "\n",
        "### P4.PY\n",
        "\n",
        "\n"
      ]
    },
    {
      "cell_type": "code",
      "metadata": {
        "id": "wgF_gvjVVJAh",
        "colab_type": "code",
        "colab": {
          "base_uri": "https://localhost:8080/",
          "height": 221
        },
        "outputId": "ec4aedb6-19c8-4602-99ae-a20892b99d6a"
      },
      "source": [
        "\"\"\"\n",
        "Cool Runnings!\n",
        "\"\"\"\n",
        "\n",
        "# Here's a quote from the movie 'Cool Runnings'. :)\n",
        "\n",
        "# Replace the word bobsled with \"YOLO\" and print the resultant list as 4 sentences (i.e. NOT a list), each on a new line.\n",
        "\n",
        "cool_runnings = [\n",
        "\t'Feel', 'the', 'rhythm.',\n",
        "\t'Feel', 'the', 'rhyme.',\n",
        "\t'Get', 'on', 'up.',\n",
        "\t'It\\'s', 'bobsled', 'time!'\n",
        "]\n",
        "\n",
        "cool_runnings[10] = 'YOLO'\n",
        "cool_runnings"
      ],
      "execution_count": 85,
      "outputs": [
        {
          "output_type": "execute_result",
          "data": {
            "text/plain": [
              "['Feel',\n",
              " 'the',\n",
              " 'rhythm.',\n",
              " 'Feel',\n",
              " 'the',\n",
              " 'rhyme.',\n",
              " 'Get',\n",
              " 'on',\n",
              " 'up.',\n",
              " \"It's\",\n",
              " 'YOLO',\n",
              " 'time!']"
            ]
          },
          "metadata": {
            "tags": []
          },
          "execution_count": 85
        }
      ]
    },
    {
      "cell_type": "code",
      "metadata": {
        "id": "BZACi5d8gQOy",
        "colab_type": "code",
        "colab": {
          "base_uri": "https://localhost:8080/",
          "height": 85
        },
        "outputId": "d456bd3f-55e3-4535-cb6f-81e822677e1f"
      },
      "source": [
        "counter = 0\n",
        "for i in range(0,4):\n",
        "  chorus = ''\n",
        "  for word in cool_runnings[counter:counter+3]:\n",
        "    chorus += word \n",
        "    chorus += ' ' \n",
        "  print(chorus)\n",
        "  counter += 3    \n",
        "    "
      ],
      "execution_count": 128,
      "outputs": [
        {
          "output_type": "stream",
          "text": [
            "Feel the rhythm. \n",
            "Feel the rhyme. \n",
            "Get on up. \n",
            "It's YOLO time! \n"
          ],
          "name": "stdout"
        }
      ]
    },
    {
      "cell_type": "markdown",
      "metadata": {
        "id": "fyknlYbQVJAj",
        "colab_type": "text"
      },
      "source": [
        "## LIST CHALLENGES\n",
        "\n",
        "\n"
      ]
    },
    {
      "cell_type": "code",
      "metadata": {
        "id": "5ynrQiQ3gPap",
        "colab_type": "code",
        "colab": {}
      },
      "source": [
        ""
      ],
      "execution_count": 0,
      "outputs": []
    },
    {
      "cell_type": "markdown",
      "metadata": {
        "id": "qYrO5tA-VdxK",
        "colab_type": "text"
      },
      "source": [
        "### P1.PY"
      ]
    },
    {
      "cell_type": "code",
      "metadata": {
        "id": "R1ouYtGvVJAq",
        "colab_type": "code",
        "colab": {}
      },
      "source": [
        "\"\"\"\n",
        "CHALLENGE - Extensions\n",
        "\"\"\"\n",
        "\n",
        "# ** Challenge** Add each element of the tuple1 to list1 *individually* and print the result.\n",
        "\n",
        "list1 = [6, 12, 9, 4, 10, 1]\n",
        "tuple1 = [(15,3), (6,2), (1, 8)]\n",
        "\n",
        "print(tuple1[0][0]) + list1[0]\n",
        "print(tuple1[0][1]) + list1[1]\n",
        "print(tuple1[1][0]) + list1[2]\n",
        "print(tuple1[1][1]) + list1[3]\n",
        "print(tuple1[2][0]) + list1[4]\n",
        "print(tuple1[2][1]) + list1[5]\n"
      ],
      "execution_count": 0,
      "outputs": []
    },
    {
      "cell_type": "markdown",
      "metadata": {
        "id": "X5MSdZzXVJAt",
        "colab_type": "text"
      },
      "source": [
        "\n",
        "\n",
        "### P2.PY\n",
        "\n",
        "\n"
      ]
    },
    {
      "cell_type": "code",
      "metadata": {
        "id": "xyu2RSZcVJAt",
        "colab_type": "code",
        "colab": {}
      },
      "source": [
        "\"\"\"\n",
        "CHALLENGE - Core Statistics Calculations\n",
        "\"\"\"\n",
        "\n",
        "# Given the sample below, find the mean, median, mode, variance, and standard deviation of this sample. Print them out separately, but in the same format as before.\n",
        "\t# my_median = \n",
        "\t# my_mode = \n",
        "\t# my_variance = \n",
        "\t# my_sd = \n",
        "\n",
        "import pandas as pd\n",
        "import statistics as stats\n",
        "import numpy as np\n",
        "sample = [6, 19, 20, 12, 6, 24, 8, 30, 28, 25]\n",
        "print(sorted(sample))\n",
        "\n",
        "my_median = np.median(sample)\n",
        "my_mode = max(set(sample), key = sample.count)\n",
        "my_sd = stats.stdev(sample)\n",
        "my_variance = my_sd**2\n",
        "\n",
        "print(f\"\"\"\n",
        "Median = {my_median}\n",
        "Mode = {my_mode}\n",
        "Variance = {my_variance}\n",
        "Standard Deviation = {my_sd}\n",
        "\"\"\")\n",
        "\n",
        "# Once you finish, print out each value **on its own line** in this format: \"median = \" etc.\n"
      ],
      "execution_count": 0,
      "outputs": []
    }
  ]
}